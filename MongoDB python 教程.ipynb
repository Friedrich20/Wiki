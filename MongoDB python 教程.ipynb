{
 "cells": [
  {
   "cell_type": "markdown",
   "metadata": {},
   "source": [
    "# 导入模块"
   ]
  },
  {
   "cell_type": "code",
   "execution_count": 25,
   "metadata": {},
   "outputs": [],
   "source": [
    "import pymongo"
   ]
  },
  {
   "cell_type": "markdown",
   "metadata": {},
   "source": [
    "# 数据库 Databases\n",
    "## 连接 mongoDB"
   ]
  },
  {
   "cell_type": "code",
   "execution_count": 26,
   "metadata": {},
   "outputs": [],
   "source": [
    "myclient = pymongo.MongoClient(\"mongodb://localhost:27017/\")"
   ]
  },
  {
   "cell_type": "markdown",
   "metadata": {},
   "source": [
    "## 创建数据库"
   ]
  },
  {
   "cell_type": "code",
   "execution_count": 27,
   "metadata": {},
   "outputs": [],
   "source": [
    "mydb = myclient[\"testDB\"]"
   ]
  },
  {
   "cell_type": "markdown",
   "metadata": {},
   "source": [
    "## 判断数据库是否存在"
   ]
  },
  {
   "cell_type": "code",
   "execution_count": 28,
   "metadata": {},
   "outputs": [
    {
     "name": "stdout",
     "output_type": "stream",
     "text": [
      "数据库已存在！\n"
     ]
    }
   ],
   "source": [
    "dblist = myclient.list_database_names()\n",
    "if \"testDB\" in dblist:\n",
    "  print(\"数据库已存在！\")"
   ]
  },
  {
   "cell_type": "markdown",
   "metadata": {},
   "source": [
    "# 集合 Collections\n",
    "## 创建集合"
   ]
  },
  {
   "cell_type": "code",
   "execution_count": 29,
   "metadata": {},
   "outputs": [],
   "source": [
    "mycol = mydb[\"testCollection\"]"
   ]
  },
  {
   "cell_type": "markdown",
   "metadata": {},
   "source": [
    "## 查询集合是否存在"
   ]
  },
  {
   "cell_type": "code",
   "execution_count": 30,
   "metadata": {},
   "outputs": [
    {
     "name": "stdout",
     "output_type": "stream",
     "text": [
      "集合已存在！\n"
     ]
    }
   ],
   "source": [
    "collist = mydb.list_collection_names()\n",
    "if \"testCollection\" in collist:\n",
    "  print(\"集合已存在！\")"
   ]
  },
  {
   "cell_type": "markdown",
   "metadata": {},
   "source": [
    "## 删除集合"
   ]
  },
  {
   "cell_type": "code",
   "execution_count": null,
   "metadata": {},
   "outputs": [],
   "source": [
    "mycol.drop()"
   ]
  },
  {
   "cell_type": "markdown",
   "metadata": {},
   "source": [
    "# 文档 Documents\n",
    "## 增\n",
    "## 插入一条文档"
   ]
  },
  {
   "cell_type": "code",
   "execution_count": null,
   "metadata": {},
   "outputs": [],
   "source": [
    "mydict = {\"name\": \"Wei Tao\", \"gender\": \"male\"}\n",
    " \n",
    "x = mycol.insert_one(mydict) \n",
    "print(x)\n",
    "print(x.inserted_id)"
   ]
  },
  {
   "cell_type": "markdown",
   "metadata": {},
   "source": [
    "## 插入多条文档"
   ]
  },
  {
   "cell_type": "code",
   "execution_count": 49,
   "metadata": {},
   "outputs": [
    {
     "ename": "BulkWriteError",
     "evalue": "batch op errors occurred, full error: {'writeErrors': [{'index': 2, 'code': 11000, 'keyPattern': {'_id': 1}, 'keyValue': {'_id': 5}, 'errmsg': 'E11000 duplicate key error collection: testDB.testCollection index: _id_ dup key: { _id: 5 }', 'op': {'_id': 5, 'name': 'CCC', 'gender': 'male'}}], 'writeConcernErrors': [], 'nInserted': 2, 'nUpserted': 0, 'nMatched': 0, 'nModified': 0, 'nRemoved': 0, 'upserted': []}",
     "output_type": "error",
     "traceback": [
      "\u001b[0;31m---------------------------------------------------------------------------\u001b[0m",
      "\u001b[0;31mBulkWriteError\u001b[0m                            Traceback (most recent call last)",
      "\u001b[0;32m<ipython-input-49-45f3fa83e333>\u001b[0m in \u001b[0;36m<module>\u001b[0;34m\u001b[0m\n\u001b[1;32m      5\u001b[0m ]\n\u001b[1;32m      6\u001b[0m \u001b[0;34m\u001b[0m\u001b[0m\n\u001b[0;32m----> 7\u001b[0;31m \u001b[0mx\u001b[0m \u001b[0;34m=\u001b[0m \u001b[0mmycol\u001b[0m\u001b[0;34m.\u001b[0m\u001b[0minsert_many\u001b[0m\u001b[0;34m(\u001b[0m\u001b[0mmylist\u001b[0m\u001b[0;34m)\u001b[0m\u001b[0;34m\u001b[0m\u001b[0;34m\u001b[0m\u001b[0m\n\u001b[0m\u001b[1;32m      8\u001b[0m \u001b[0mprint\u001b[0m\u001b[0;34m(\u001b[0m\u001b[0mx\u001b[0m\u001b[0;34m.\u001b[0m\u001b[0minserted_ids\u001b[0m\u001b[0;34m)\u001b[0m\u001b[0;34m\u001b[0m\u001b[0;34m\u001b[0m\u001b[0m\n",
      "\u001b[0;32m~/opt/anaconda3/envs/dps_lab/lib/python3.8/site-packages/pymongo/collection.py\u001b[0m in \u001b[0;36minsert_many\u001b[0;34m(self, documents, ordered, bypass_document_validation, session)\u001b[0m\n\u001b[1;32m    759\u001b[0m         \u001b[0mblk\u001b[0m \u001b[0;34m=\u001b[0m \u001b[0m_Bulk\u001b[0m\u001b[0;34m(\u001b[0m\u001b[0mself\u001b[0m\u001b[0;34m,\u001b[0m \u001b[0mordered\u001b[0m\u001b[0;34m,\u001b[0m \u001b[0mbypass_document_validation\u001b[0m\u001b[0;34m)\u001b[0m\u001b[0;34m\u001b[0m\u001b[0;34m\u001b[0m\u001b[0m\n\u001b[1;32m    760\u001b[0m         \u001b[0mblk\u001b[0m\u001b[0;34m.\u001b[0m\u001b[0mops\u001b[0m \u001b[0;34m=\u001b[0m \u001b[0;34m[\u001b[0m\u001b[0mdoc\u001b[0m \u001b[0;32mfor\u001b[0m \u001b[0mdoc\u001b[0m \u001b[0;32min\u001b[0m \u001b[0mgen\u001b[0m\u001b[0;34m(\u001b[0m\u001b[0;34m)\u001b[0m\u001b[0;34m]\u001b[0m\u001b[0;34m\u001b[0m\u001b[0;34m\u001b[0m\u001b[0m\n\u001b[0;32m--> 761\u001b[0;31m         \u001b[0mblk\u001b[0m\u001b[0;34m.\u001b[0m\u001b[0mexecute\u001b[0m\u001b[0;34m(\u001b[0m\u001b[0mwrite_concern\u001b[0m\u001b[0;34m,\u001b[0m \u001b[0msession\u001b[0m\u001b[0;34m=\u001b[0m\u001b[0msession\u001b[0m\u001b[0;34m)\u001b[0m\u001b[0;34m\u001b[0m\u001b[0;34m\u001b[0m\u001b[0m\n\u001b[0m\u001b[1;32m    762\u001b[0m         \u001b[0;32mreturn\u001b[0m \u001b[0mInsertManyResult\u001b[0m\u001b[0;34m(\u001b[0m\u001b[0minserted_ids\u001b[0m\u001b[0;34m,\u001b[0m \u001b[0mwrite_concern\u001b[0m\u001b[0;34m.\u001b[0m\u001b[0macknowledged\u001b[0m\u001b[0;34m)\u001b[0m\u001b[0;34m\u001b[0m\u001b[0;34m\u001b[0m\u001b[0m\n\u001b[1;32m    763\u001b[0m \u001b[0;34m\u001b[0m\u001b[0m\n",
      "\u001b[0;32m~/opt/anaconda3/envs/dps_lab/lib/python3.8/site-packages/pymongo/bulk.py\u001b[0m in \u001b[0;36mexecute\u001b[0;34m(self, write_concern, session)\u001b[0m\n\u001b[1;32m    526\u001b[0m                 \u001b[0mself\u001b[0m\u001b[0;34m.\u001b[0m\u001b[0mexecute_no_results\u001b[0m\u001b[0;34m(\u001b[0m\u001b[0msock_info\u001b[0m\u001b[0;34m,\u001b[0m \u001b[0mgenerator\u001b[0m\u001b[0;34m)\u001b[0m\u001b[0;34m\u001b[0m\u001b[0;34m\u001b[0m\u001b[0m\n\u001b[1;32m    527\u001b[0m         \u001b[0;32melse\u001b[0m\u001b[0;34m:\u001b[0m\u001b[0;34m\u001b[0m\u001b[0;34m\u001b[0m\u001b[0m\n\u001b[0;32m--> 528\u001b[0;31m             \u001b[0;32mreturn\u001b[0m \u001b[0mself\u001b[0m\u001b[0;34m.\u001b[0m\u001b[0mexecute_command\u001b[0m\u001b[0;34m(\u001b[0m\u001b[0mgenerator\u001b[0m\u001b[0;34m,\u001b[0m \u001b[0mwrite_concern\u001b[0m\u001b[0;34m,\u001b[0m \u001b[0msession\u001b[0m\u001b[0;34m)\u001b[0m\u001b[0;34m\u001b[0m\u001b[0;34m\u001b[0m\u001b[0m\n\u001b[0m\u001b[1;32m    529\u001b[0m \u001b[0;34m\u001b[0m\u001b[0m\n\u001b[1;32m    530\u001b[0m \u001b[0;34m\u001b[0m\u001b[0m\n",
      "\u001b[0;32m~/opt/anaconda3/envs/dps_lab/lib/python3.8/site-packages/pymongo/bulk.py\u001b[0m in \u001b[0;36mexecute_command\u001b[0;34m(self, generator, write_concern, session)\u001b[0m\n\u001b[1;32m    361\u001b[0m \u001b[0;34m\u001b[0m\u001b[0m\n\u001b[1;32m    362\u001b[0m         \u001b[0;32mif\u001b[0m \u001b[0mfull_result\u001b[0m\u001b[0;34m[\u001b[0m\u001b[0;34m\"writeErrors\"\u001b[0m\u001b[0;34m]\u001b[0m \u001b[0;32mor\u001b[0m \u001b[0mfull_result\u001b[0m\u001b[0;34m[\u001b[0m\u001b[0;34m\"writeConcernErrors\"\u001b[0m\u001b[0;34m]\u001b[0m\u001b[0;34m:\u001b[0m\u001b[0;34m\u001b[0m\u001b[0;34m\u001b[0m\u001b[0m\n\u001b[0;32m--> 363\u001b[0;31m             \u001b[0m_raise_bulk_write_error\u001b[0m\u001b[0;34m(\u001b[0m\u001b[0mfull_result\u001b[0m\u001b[0;34m)\u001b[0m\u001b[0;34m\u001b[0m\u001b[0;34m\u001b[0m\u001b[0m\n\u001b[0m\u001b[1;32m    364\u001b[0m         \u001b[0;32mreturn\u001b[0m \u001b[0mfull_result\u001b[0m\u001b[0;34m\u001b[0m\u001b[0;34m\u001b[0m\u001b[0m\n\u001b[1;32m    365\u001b[0m \u001b[0;34m\u001b[0m\u001b[0m\n",
      "\u001b[0;32m~/opt/anaconda3/envs/dps_lab/lib/python3.8/site-packages/pymongo/bulk.py\u001b[0m in \u001b[0;36m_raise_bulk_write_error\u001b[0;34m(full_result)\u001b[0m\n\u001b[1;32m    138\u001b[0m         full_result[\"writeErrors\"].sort(\n\u001b[1;32m    139\u001b[0m             key=lambda error: error[\"index\"])\n\u001b[0;32m--> 140\u001b[0;31m     \u001b[0;32mraise\u001b[0m \u001b[0mBulkWriteError\u001b[0m\u001b[0;34m(\u001b[0m\u001b[0mfull_result\u001b[0m\u001b[0;34m)\u001b[0m\u001b[0;34m\u001b[0m\u001b[0;34m\u001b[0m\u001b[0m\n\u001b[0m\u001b[1;32m    141\u001b[0m \u001b[0;34m\u001b[0m\u001b[0m\n\u001b[1;32m    142\u001b[0m \u001b[0;34m\u001b[0m\u001b[0m\n",
      "\u001b[0;31mBulkWriteError\u001b[0m: batch op errors occurred, full error: {'writeErrors': [{'index': 2, 'code': 11000, 'keyPattern': {'_id': 1}, 'keyValue': {'_id': 5}, 'errmsg': 'E11000 duplicate key error collection: testDB.testCollection index: _id_ dup key: { _id: 5 }', 'op': {'_id': 5, 'name': 'CCC', 'gender': 'male'}}], 'writeConcernErrors': [], 'nInserted': 2, 'nUpserted': 0, 'nMatched': 0, 'nModified': 0, 'nRemoved': 0, 'upserted': []}"
     ]
    }
   ],
   "source": [
    "mylist = [\n",
    "  {\"name\": \"AAA\", \"gender\": \"female\"},\n",
    "  {\"name\": \"BBB\", \"gender\": \"n.a.\"},\n",
    "  {\"_id\": 5, \"name\": \"CCC\", \"gender\": \"male\"} # 指定id\n",
    "]\n",
    " \n",
    "x = mycol.insert_many(mylist)\n",
    "print(x.inserted_ids)"
   ]
  },
  {
   "cell_type": "markdown",
   "metadata": {},
   "source": [
    "## 删\n",
    "## 删除单条文档"
   ]
  },
  {
   "cell_type": "code",
   "execution_count": 54,
   "metadata": {},
   "outputs": [
    {
     "name": "stdout",
     "output_type": "stream",
     "text": [
      "{'_id': ObjectId('5f92b4209316710ee37934e4'), 'testString': \"It's a test string.\"}\n",
      "{'_id': ObjectId('5f92b7ca8d95320f2d650f85'), 'name': 'WeiT', 'gender': 'male'}\n",
      "{'_id': ObjectId('5f92b99f8d95320f2d650f87'), 'name': 'AAA', 'gender': 'female', 'alexa': '123'}\n",
      "{'_id': ObjectId('5f92b99f8d95320f2d650f88'), 'name': 'BBB', 'gender': 'n.a.'}\n",
      "{'_id': ObjectId('5f92ba4f8d95320f2d650f89'), 'name': 'AAA', 'gender': 'female', 'alexa': '123'}\n",
      "{'_id': ObjectId('5f92ba4f8d95320f2d650f8a'), 'name': 'BBB', 'gender': 'n.a.'}\n",
      "{'_id': 5, 'name': 'CCC', 'gender': 'male'}\n",
      "{'_id': ObjectId('5f92d3338d95320f2d650f8b'), 'name': 'AAA', 'gender': 'female', 'alexa': '123'}\n",
      "{'_id': ObjectId('5f92d3338d95320f2d650f8c'), 'name': 'BBB', 'gender': 'n.a.'}\n"
     ]
    }
   ],
   "source": [
    "myquery = {\"name\": \"Wei Tao\"}\n",
    "\n",
    "mycol.delete_one(myquery)\n",
    "for x in mycol.find():\n",
    "  print(x)"
   ]
  },
  {
   "cell_type": "markdown",
   "metadata": {},
   "source": [
    "## 删除多条文档"
   ]
  },
  {
   "cell_type": "code",
   "execution_count": 55,
   "metadata": {},
   "outputs": [
    {
     "name": "stdout",
     "output_type": "stream",
     "text": [
      "3 个文档已删除\n"
     ]
    }
   ],
   "source": [
    "myquery = {\"name\": {\"$regex\": \"^A\"}}\n",
    "\n",
    "x = mycol.delete_many(myquery)\n",
    "print(x.deleted_count, \"个文档已删除\")"
   ]
  },
  {
   "cell_type": "markdown",
   "metadata": {},
   "source": [
    "## 删除所有文档"
   ]
  },
  {
   "cell_type": "code",
   "execution_count": null,
   "metadata": {},
   "outputs": [],
   "source": [
    "x = mycol.delete_many({})\n",
    "\n",
    "print(x.deleted_count, \"个文档已删除\")"
   ]
  },
  {
   "cell_type": "markdown",
   "metadata": {},
   "source": [
    "## 改\n",
    "## 修改集合中单条文档"
   ]
  },
  {
   "cell_type": "code",
   "execution_count": 51,
   "metadata": {},
   "outputs": [
    {
     "name": "stdout",
     "output_type": "stream",
     "text": [
      "{'_id': ObjectId('5f92b4209316710ee37934e4'), 'testString': \"It's a test string.\"}\n",
      "{'_id': ObjectId('5f92b7ca8d95320f2d650f85'), 'name': 'WeiT', 'gender': 'male'}\n",
      "{'_id': ObjectId('5f92b82a8d95320f2d650f86'), 'name': 'Wei Tao', 'gender': 'male'}\n",
      "{'_id': ObjectId('5f92b99f8d95320f2d650f87'), 'name': 'AAA', 'gender': 'female'}\n",
      "{'_id': ObjectId('5f92b99f8d95320f2d650f88'), 'name': 'BBB', 'gender': 'n.a.'}\n",
      "{'_id': ObjectId('5f92ba4f8d95320f2d650f89'), 'name': 'AAA', 'gender': 'female'}\n",
      "{'_id': ObjectId('5f92ba4f8d95320f2d650f8a'), 'name': 'BBB', 'gender': 'n.a.'}\n",
      "{'_id': 5, 'name': 'CCC', 'gender': 'male'}\n",
      "{'_id': ObjectId('5f92d3338d95320f2d650f8b'), 'name': 'AAA', 'gender': 'female'}\n",
      "{'_id': ObjectId('5f92d3338d95320f2d650f8c'), 'name': 'BBB', 'gender': 'n.a.'}\n"
     ]
    }
   ],
   "source": [
    "myquery = {\"name\": \"Wei Tao\"}\n",
    "newvalues = {\"$set\": {\"name\": \"WeiT\"}}\n",
    " \n",
    "mycol.update_one(myquery, newvalues)\n",
    "for x in mycol.find():\n",
    "  print(x)"
   ]
  },
  {
   "cell_type": "markdown",
   "metadata": {},
   "source": [
    "## 修改集合中多条文档"
   ]
  },
  {
   "cell_type": "code",
   "execution_count": 52,
   "metadata": {},
   "outputs": [
    {
     "name": "stdout",
     "output_type": "stream",
     "text": [
      "3 文档已修改\n",
      "{'_id': ObjectId('5f92b4209316710ee37934e4'), 'testString': \"It's a test string.\"}\n",
      "{'_id': ObjectId('5f92b7ca8d95320f2d650f85'), 'name': 'WeiT', 'gender': 'male'}\n",
      "{'_id': ObjectId('5f92b82a8d95320f2d650f86'), 'name': 'Wei Tao', 'gender': 'male'}\n",
      "{'_id': ObjectId('5f92b99f8d95320f2d650f87'), 'name': 'AAA', 'gender': 'female', 'alexa': '123'}\n",
      "{'_id': ObjectId('5f92b99f8d95320f2d650f88'), 'name': 'BBB', 'gender': 'n.a.'}\n",
      "{'_id': ObjectId('5f92ba4f8d95320f2d650f89'), 'name': 'AAA', 'gender': 'female', 'alexa': '123'}\n",
      "{'_id': ObjectId('5f92ba4f8d95320f2d650f8a'), 'name': 'BBB', 'gender': 'n.a.'}\n",
      "{'_id': 5, 'name': 'CCC', 'gender': 'male'}\n",
      "{'_id': ObjectId('5f92d3338d95320f2d650f8b'), 'name': 'AAA', 'gender': 'female', 'alexa': '123'}\n",
      "{'_id': ObjectId('5f92d3338d95320f2d650f8c'), 'name': 'BBB', 'gender': 'n.a.'}\n"
     ]
    }
   ],
   "source": [
    "myquery = {\"name\": {\"$regex\": \"^A\"}}\n",
    "newvalues = {\"$set\": {\"alexa\": \"123\"}}\n",
    " \n",
    "x = mycol.update_many(myquery, newvalues)\n",
    " \n",
    "print(x.modified_count, \"文档已修改\")\n",
    "for x in mycol.find():\n",
    "    print(x)"
   ]
  },
  {
   "cell_type": "markdown",
   "metadata": {},
   "source": [
    "## 查\n",
    "## 查询集合中单条文档"
   ]
  },
  {
   "cell_type": "code",
   "execution_count": 37,
   "metadata": {},
   "outputs": [
    {
     "name": "stdout",
     "output_type": "stream",
     "text": [
      "{'_id': ObjectId('5f92b4209316710ee37934e4'), 'testString': \"It's a test string.\"}\n"
     ]
    }
   ],
   "source": [
    "x = mycol.find_one()\n",
    "print(x)"
   ]
  },
  {
   "cell_type": "markdown",
   "metadata": {},
   "source": [
    "## 查询集合中多条文档"
   ]
  },
  {
   "cell_type": "code",
   "execution_count": 53,
   "metadata": {},
   "outputs": [
    {
     "name": "stdout",
     "output_type": "stream",
     "text": [
      "{'_id': ObjectId('5f92b4209316710ee37934e4'), 'testString': \"It's a test string.\"}\n",
      "{'_id': ObjectId('5f92b99f8d95320f2d650f87'), 'name': 'AAA', 'gender': 'female', 'alexa': '123'}\n",
      "{'_id': ObjectId('5f92ba4f8d95320f2d650f89'), 'name': 'AAA', 'gender': 'female', 'alexa': '123'}\n",
      "{'_id': ObjectId('5f92d3338d95320f2d650f8b'), 'name': 'AAA', 'gender': 'female', 'alexa': '123'}\n",
      "{'_id': ObjectId('5f92b99f8d95320f2d650f88'), 'name': 'BBB', 'gender': 'n.a.'}\n",
      "{'_id': ObjectId('5f92ba4f8d95320f2d650f8a'), 'name': 'BBB', 'gender': 'n.a.'}\n",
      "{'_id': ObjectId('5f92d3338d95320f2d650f8c'), 'name': 'BBB', 'gender': 'n.a.'}\n",
      "{'_id': 5, 'name': 'CCC', 'gender': 'male'}\n",
      "{'_id': ObjectId('5f92b82a8d95320f2d650f86'), 'name': 'Wei Tao', 'gender': 'male'}\n",
      "{'_id': ObjectId('5f92b7ca8d95320f2d650f85'), 'name': 'WeiT', 'gender': 'male'}\n"
     ]
    }
   ],
   "source": [
    "for x in mycol.find().sort('name'): # sort()对指定字段进行排序，默认升序，sort('', -1)降序\n",
    "  print(x)"
   ]
  },
  {
   "cell_type": "markdown",
   "metadata": {},
   "source": [
    "## 查询指定字段的文档"
   ]
  },
  {
   "cell_type": "code",
   "execution_count": 44,
   "metadata": {},
   "outputs": [
    {
     "name": "stdout",
     "output_type": "stream",
     "text": [
      "{}\n",
      "{'name': 'Wei Tao'}\n",
      "{'name': 'Wei Tao'}\n",
      "{'name': 'AAA'}\n",
      "{'name': 'BBB'}\n",
      "{'name': 'AAA'}\n",
      "{'name': 'BBB'}\n",
      "{'name': 'CCC'}\n",
      "{'_id': ObjectId('5f92b4209316710ee37934e4'), 'testString': \"It's a test string.\"}\n",
      "{'_id': ObjectId('5f92b7ca8d95320f2d650f85'), 'gender': 'male'}\n",
      "{'_id': ObjectId('5f92b82a8d95320f2d650f86'), 'gender': 'male'}\n",
      "{'_id': ObjectId('5f92b99f8d95320f2d650f87'), 'gender': 'female'}\n",
      "{'_id': ObjectId('5f92b99f8d95320f2d650f88'), 'gender': 'n.a.'}\n",
      "{'_id': ObjectId('5f92ba4f8d95320f2d650f89'), 'gender': 'female'}\n",
      "{'_id': ObjectId('5f92ba4f8d95320f2d650f8a'), 'gender': 'n.a.'}\n",
      "{'_id': 5, 'gender': 'male'}\n"
     ]
    }
   ],
   "source": [
    "for x in mycol.find({}, {\"_id\": 0, \"name\": 1,}): # 要查询的字段标记为1，其余为0\n",
    "  print(x)\n",
    "\n",
    "for x in mycol.find({},{ \"name\": 0 }): # 不要查询的字段标记为0，除id外不能同时在一个对象中指定1和0\n",
    "  print(x)"
   ]
  },
  {
   "cell_type": "markdown",
   "metadata": {},
   "source": [
    "## 根据指定条件查询"
   ]
  },
  {
   "cell_type": "code",
   "execution_count": 45,
   "metadata": {},
   "outputs": [
    {
     "name": "stdout",
     "output_type": "stream",
     "text": [
      "{'_id': ObjectId('5f92b7ca8d95320f2d650f85'), 'name': 'Wei Tao', 'gender': 'male'}\n",
      "{'_id': ObjectId('5f92b82a8d95320f2d650f86'), 'name': 'Wei Tao', 'gender': 'male'}\n"
     ]
    }
   ],
   "source": [
    "myquery = {\"name\": \"Wei Tao\"}\n",
    "\n",
    "mydoc = mycol.find(myquery)\n",
    "\n",
    "for x in mydoc:\n",
    "  print(x)"
   ]
  },
  {
   "cell_type": "markdown",
   "metadata": {},
   "source": [
    "## 使用正则表达式查询"
   ]
  },
  {
   "cell_type": "code",
   "execution_count": 48,
   "metadata": {},
   "outputs": [
    {
     "name": "stdout",
     "output_type": "stream",
     "text": [
      "{'_id': ObjectId('5f92b7ca8d95320f2d650f85'), 'name': 'Wei Tao', 'gender': 'male'}\n",
      "{'_id': ObjectId('5f92b82a8d95320f2d650f86'), 'name': 'Wei Tao', 'gender': 'male'}\n",
      "\n",
      "\n",
      "{'_id': ObjectId('5f92b7ca8d95320f2d650f85'), 'name': 'Wei Tao', 'gender': 'male'}\n"
     ]
    }
   ],
   "source": [
    "myquery = { \"name\": { \"$regex\": \"^W\" } } # 查询name字段中首字母为R的数据\n",
    " \n",
    "mydoc = mycol.find(myquery)\n",
    " \n",
    "for x in mydoc:\n",
    "  print(x)\n",
    "\n",
    "print('\\n')\n",
    "mydoc1 = mycol.find(myquery).limit(1) # 限制返回的条数\n",
    " \n",
    "for x in mydoc1:\n",
    "  print(x)"
   ]
  }
 ],
 "metadata": {
  "kernelspec": {
   "display_name": "Python 3",
   "language": "python",
   "name": "python3"
  },
  "language_info": {
   "codemirror_mode": {
    "name": "ipython",
    "version": 3
   },
   "file_extension": ".py",
   "mimetype": "text/x-python",
   "name": "python",
   "nbconvert_exporter": "python",
   "pygments_lexer": "ipython3",
   "version": "3.8.5"
  }
 },
 "nbformat": 4,
 "nbformat_minor": 4
}
